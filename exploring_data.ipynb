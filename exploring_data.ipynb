{
 "cells": [
  {
   "cell_type": "code",
   "execution_count": 27,
   "id": "bdabd02b",
   "metadata": {},
   "outputs": [],
   "source": [
    "# Cell 1 — imports\n",
    "import h5py\n",
    "from temporaldata import Data, RegularTimeSeries, Interval, LazyInterval, LazyRegularTimeSeries\n"
   ]
  },
  {
   "cell_type": "code",
   "execution_count": 72,
   "id": "45d21520",
   "metadata": {},
   "outputs": [],
   "source": [
    "# Cell 2 — point to your file\n",
    "h5_path = \"/vol/cortex/cd3/pesaranlab/OCD_Mapping_Foundation/processed_data_upd/processed_data/ocd_symptom_provocation_unfiltered/P3_D3_Tsymptom_provocation_SUPENNS001R01.h5\"\n",
    "\n",
    "\n"
   ]
  },
  {
   "cell_type": "code",
   "execution_count": 73,
   "id": "2ca9e902",
   "metadata": {},
   "outputs": [
    {
     "ename": "KeyError",
     "evalue": "\"Unable to synchronously open attribute (can't locate attribute: '_unicode_keys')\"",
     "output_type": "error",
     "traceback": [
      "\u001b[0;31m---------------------------------------------------------------------------\u001b[0m",
      "\u001b[0;31mKeyError\u001b[0m                                  Traceback (most recent call last)",
      "Cell \u001b[0;32mIn[73], line 7\u001b[0m\n\u001b[1;32m      4\u001b[0m \u001b[38;5;66;03m# Cell 3 — open once, then do every lazy access inside this block\u001b[39;00m\n\u001b[1;32m      5\u001b[0m \u001b[38;5;28;01mwith\u001b[39;00m h5py\u001b[38;5;241m.\u001b[39mFile(h5_path, \u001b[38;5;124m\"\u001b[39m\u001b[38;5;124mr\u001b[39m\u001b[38;5;124m\"\u001b[39m) \u001b[38;5;28;01mas\u001b[39;00m f:\n\u001b[1;32m      6\u001b[0m     \u001b[38;5;66;03m# load lazily\u001b[39;00m\n\u001b[0;32m----> 7\u001b[0m     session \u001b[38;5;241m=\u001b[39m \u001b[43mData\u001b[49m\u001b[38;5;241;43m.\u001b[39;49m\u001b[43mfrom_hdf5\u001b[49m\u001b[43m(\u001b[49m\u001b[43mf\u001b[49m\u001b[43m)\u001b[49m   \n\u001b[1;32m      9\u001b[0m     \u001b[38;5;66;03m# 1) list top-level groups\u001b[39;00m\n\u001b[1;32m     10\u001b[0m     \u001b[38;5;28mprint\u001b[39m(\u001b[38;5;124m\"\u001b[39m\u001b[38;5;124mTop-level keys:\u001b[39m\u001b[38;5;124m\"\u001b[39m, session\u001b[38;5;241m.\u001b[39mkeys())\n",
      "File \u001b[0;32m~/jmehrotra_ocd_venv/lib/python3.10/site-packages/temporaldata/temporaldata.py:3011\u001b[0m, in \u001b[0;36mData.from_hdf5\u001b[0;34m(cls, file, lazy)\u001b[0m\n\u001b[1;32m   3009\u001b[0m     \u001b[38;5;28;01melse\u001b[39;00m:\n\u001b[1;32m   3010\u001b[0m         group_cls \u001b[38;5;241m=\u001b[39m \u001b[38;5;28mglobals\u001b[39m()[class_name]\n\u001b[0;32m-> 3011\u001b[0m     data[key] \u001b[38;5;241m=\u001b[39m \u001b[43mgroup_cls\u001b[49m\u001b[38;5;241;43m.\u001b[39;49m\u001b[43mfrom_hdf5\u001b[49m\u001b[43m(\u001b[49m\u001b[43mvalue\u001b[49m\u001b[43m)\u001b[49m\n\u001b[1;32m   3012\u001b[0m \u001b[38;5;28;01melse\u001b[39;00m:\n\u001b[1;32m   3013\u001b[0m     \u001b[38;5;66;03m# if array, it will be loaded no matter what, always prefer ArrayDict\u001b[39;00m\n\u001b[1;32m   3014\u001b[0m     data[key] \u001b[38;5;241m=\u001b[39m value[:]\n",
      "File \u001b[0;32m~/jmehrotra_ocd_venv/lib/python3.10/site-packages/temporaldata/temporaldata.py:473\u001b[0m, in \u001b[0;36mLazyArrayDict.from_hdf5\u001b[0;34m(cls, file)\u001b[0m\n\u001b[1;32m    470\u001b[0m \u001b[38;5;28;01mfor\u001b[39;00m key, value \u001b[38;5;129;01min\u001b[39;00m file\u001b[38;5;241m.\u001b[39mitems():\n\u001b[1;32m    471\u001b[0m     obj\u001b[38;5;241m.\u001b[39m\u001b[38;5;18m__dict__\u001b[39m[key] \u001b[38;5;241m=\u001b[39m value\n\u001b[0;32m--> 473\u001b[0m obj\u001b[38;5;241m.\u001b[39m_unicode_keys \u001b[38;5;241m=\u001b[39m \u001b[43mfile\u001b[49m\u001b[38;5;241;43m.\u001b[39;49m\u001b[43mattrs\u001b[49m\u001b[43m[\u001b[49m\u001b[38;5;124;43m\"\u001b[39;49m\u001b[38;5;124;43m_unicode_keys\u001b[39;49m\u001b[38;5;124;43m\"\u001b[39;49m\u001b[43m]\u001b[49m\u001b[38;5;241m.\u001b[39mastype(\u001b[38;5;28mstr\u001b[39m)\u001b[38;5;241m.\u001b[39mtolist()\n\u001b[1;32m    474\u001b[0m obj\u001b[38;5;241m.\u001b[39m_lazy_ops \u001b[38;5;241m=\u001b[39m {}\n\u001b[1;32m    476\u001b[0m \u001b[38;5;28;01mreturn\u001b[39;00m obj\n",
      "File \u001b[0;32mh5py/_objects.pyx:56\u001b[0m, in \u001b[0;36mh5py._objects.with_phil.wrapper\u001b[0;34m()\u001b[0m\n",
      "File \u001b[0;32mh5py/_objects.pyx:57\u001b[0m, in \u001b[0;36mh5py._objects.with_phil.wrapper\u001b[0;34m()\u001b[0m\n",
      "File \u001b[0;32m~/jmehrotra_ocd_venv/lib/python3.10/site-packages/h5py/_hl/attrs.py:56\u001b[0m, in \u001b[0;36mAttributeManager.__getitem__\u001b[0;34m(self, name)\u001b[0m\n\u001b[1;32m     52\u001b[0m \u001b[38;5;129m@with_phil\u001b[39m\n\u001b[1;32m     53\u001b[0m \u001b[38;5;28;01mdef\u001b[39;00m\u001b[38;5;250m \u001b[39m\u001b[38;5;21m__getitem__\u001b[39m(\u001b[38;5;28mself\u001b[39m, name):\n\u001b[1;32m     54\u001b[0m \u001b[38;5;250m    \u001b[39m\u001b[38;5;124;03m\"\"\" Read the value of an attribute.\u001b[39;00m\n\u001b[1;32m     55\u001b[0m \u001b[38;5;124;03m    \"\"\"\u001b[39;00m\n\u001b[0;32m---> 56\u001b[0m     attr \u001b[38;5;241m=\u001b[39m \u001b[43mh5a\u001b[49m\u001b[38;5;241;43m.\u001b[39;49m\u001b[43mopen\u001b[49m\u001b[43m(\u001b[49m\u001b[38;5;28;43mself\u001b[39;49m\u001b[38;5;241;43m.\u001b[39;49m\u001b[43m_id\u001b[49m\u001b[43m,\u001b[49m\u001b[43m \u001b[49m\u001b[38;5;28;43mself\u001b[39;49m\u001b[38;5;241;43m.\u001b[39;49m\u001b[43m_e\u001b[49m\u001b[43m(\u001b[49m\u001b[43mname\u001b[49m\u001b[43m)\u001b[49m\u001b[43m)\u001b[49m\n\u001b[1;32m     57\u001b[0m     shape \u001b[38;5;241m=\u001b[39m attr\u001b[38;5;241m.\u001b[39mshape\n\u001b[1;32m     59\u001b[0m     \u001b[38;5;66;03m# shape is None for empty dataspaces\u001b[39;00m\n",
      "File \u001b[0;32mh5py/_objects.pyx:56\u001b[0m, in \u001b[0;36mh5py._objects.with_phil.wrapper\u001b[0;34m()\u001b[0m\n",
      "File \u001b[0;32mh5py/_objects.pyx:57\u001b[0m, in \u001b[0;36mh5py._objects.with_phil.wrapper\u001b[0;34m()\u001b[0m\n",
      "File \u001b[0;32mh5py/h5a.pyx:80\u001b[0m, in \u001b[0;36mh5py.h5a.open\u001b[0;34m()\u001b[0m\n",
      "\u001b[0;31mKeyError\u001b[0m: \"Unable to synchronously open attribute (can't locate attribute: '_unicode_keys')\""
     ]
    }
   ],
   "source": [
    "\"\"\"temporary script\"\"\"\n",
    "\n",
    "\n",
    "# Cell 3 — open once, then do every lazy access inside this block\n",
    "with h5py.File(h5_path, \"r\") as f:\n",
    "    # load lazily\n",
    "    session = Data.from_hdf5(f)   \n",
    "\n",
    "    # 1) list top-level groups\n",
    "    print(\"Top-level keys:\", session.keys())\n",
    "\n",
    "    # 2) inspect the LFP (RegularTimeSeries under 'ieeg')\n",
    "    lfp = session.ieeg\n",
    "    print(f\"\\nIEEG sampling rate: {lfp.sampling_rate} Hz\")\n",
    "    print(\"First 10 timestamps:\", lfp.timestamps[:10])\n",
    "\n",
    "    # 3) inspect unit metadata (ArrayDict under 'units')\n",
    "    units = session.units\n",
    "    print(f\"\\nUnits sub-keys: {units.keys()}\")\n",
    "    print(\"First 5 unit IDs:\", units.id[:5])\n",
    "    print(\"First 5 brain areas:\", units.brain_area[:5])\n",
    "\n",
    "    # 4) inspect the overall session domain (Interval under 'domain')\n",
    "    dom = session.domain\n",
    "    print(f\"\\nSession domain: start={dom.start[0]:.3f}s   end={dom.end[0]:.3f}s\")\n",
    "# --> file is closed here; no further lazy loads will work outside this block\n",
    "\n"
   ]
  },
  {
   "cell_type": "code",
   "execution_count": null,
   "id": "f890f6d9",
   "metadata": {},
   "outputs": [
    {
     "name": "stdout",
     "output_type": "stream",
     "text": [
      "IEEG data shape (segments, channels, samples): (248,)\n"
     ]
    }
   ],
   "source": [
    "\"\"\"2nd attempt at viewing data\"\"\"\n",
    "\n",
    "# Cell 3 — open & inspect the raw IEEG array\n",
    "with h5py.File(h5_path, \"r\") as f:\n",
    "    ieeg = f[\"ieeg/data\"]\n",
    "    print(\"IEEG data shape (segments, channels, samples):\", ieeg.shape)\n",
    "    \n",
    "    # first segment, first channel, first 10 time-points\n",
    "    ch0 = ieeg[0, 0, :10]\n",
    "    print(\"\\nFirst 10 samples of channel 0:\\n\", ch0)\n",
    "    \n",
    "    # first segment, first 5 channels, first 10 time-points\n",
    "    snippet = ieeg[0, :5, :10]\n",
    "    print(\"\\nSnippet (5 channels × 10 timepoints):\\n\", snippet)"
   ]
  },
  {
   "cell_type": "code",
   "execution_count": 76,
   "id": "caf6ee4b",
   "metadata": {},
   "outputs": [
    {
     "name": "stdout",
     "output_type": "stream",
     "text": [
      "\n",
      "Raw HDF5 structure for '/vol/cortex/cd3/pesaranlab/OCD_Mapping_Foundation/processed_data_upd/processed_data/ocd_symptom_provocation_unfiltered/P3_D3_Tsymptom_provocation_SUPENNS001R01.h5':\n",
      "\n",
      "brainset/\n",
      "session/\n",
      "subject/\n",
      "units/\n",
      "  id   shape=(248,), dtype=|S4\n"
     ]
    }
   ],
   "source": [
    "# Cell 3 — inspect raw HDF5 structure\n",
    "with h5py.File(h5_path, \"r\") as f:\n",
    "    def print_struct(name, obj):\n",
    "        depth = name.count(\"/\")\n",
    "        indent = \"  \" * depth\n",
    "        label = name.split(\"/\")[-1] or \"/\"\n",
    "        if isinstance(obj, h5py.Group):\n",
    "            print(f\"{indent}{label}/\")\n",
    "        else:\n",
    "            print(f\"{indent}{label}   shape={obj.shape}, dtype={obj.dtype}\")\n",
    "    print(f\"\\nRaw HDF5 structure for {h5_path!r}:\\n\")\n",
    "    f.visititems(print_struct)"
   ]
  },
  {
   "cell_type": "code",
   "execution_count": 77,
   "id": "dac4ec64",
   "metadata": {},
   "outputs": [
    {
     "ename": "KeyError",
     "evalue": "\"Unable to synchronously open attribute (can't locate attribute: '_unicode_keys')\"",
     "output_type": "error",
     "traceback": [
      "\u001b[0;31m---------------------------------------------------------------------------\u001b[0m",
      "\u001b[0;31mKeyError\u001b[0m                                  Traceback (most recent call last)",
      "Cell \u001b[0;32mIn[77], line 3\u001b[0m\n\u001b[1;32m      1\u001b[0m \u001b[38;5;66;03m# Cell 4 — load with temporaldata and list top-level keys\u001b[39;00m\n\u001b[1;32m      2\u001b[0m \u001b[38;5;28;01mwith\u001b[39;00m h5py\u001b[38;5;241m.\u001b[39mFile(h5_path, \u001b[38;5;124m\"\u001b[39m\u001b[38;5;124mr\u001b[39m\u001b[38;5;124m\"\u001b[39m) \u001b[38;5;28;01mas\u001b[39;00m f:\n\u001b[0;32m----> 3\u001b[0m     session \u001b[38;5;241m=\u001b[39m \u001b[43mData\u001b[49m\u001b[38;5;241;43m.\u001b[39;49m\u001b[43mfrom_hdf5\u001b[49m\u001b[43m(\u001b[49m\u001b[43mf\u001b[49m\u001b[43m)\u001b[49m\n\u001b[1;32m      5\u001b[0m \u001b[38;5;28mprint\u001b[39m(\u001b[38;5;124m\"\u001b[39m\u001b[38;5;124mTop-level keys in Data object:\u001b[39m\u001b[38;5;124m\"\u001b[39m, session\u001b[38;5;241m.\u001b[39mkeys())\n",
      "File \u001b[0;32m~/jmehrotra_ocd_venv/lib/python3.10/site-packages/temporaldata/temporaldata.py:3011\u001b[0m, in \u001b[0;36mData.from_hdf5\u001b[0;34m(cls, file, lazy)\u001b[0m\n\u001b[1;32m   3009\u001b[0m     \u001b[38;5;28;01melse\u001b[39;00m:\n\u001b[1;32m   3010\u001b[0m         group_cls \u001b[38;5;241m=\u001b[39m \u001b[38;5;28mglobals\u001b[39m()[class_name]\n\u001b[0;32m-> 3011\u001b[0m     data[key] \u001b[38;5;241m=\u001b[39m \u001b[43mgroup_cls\u001b[49m\u001b[38;5;241;43m.\u001b[39;49m\u001b[43mfrom_hdf5\u001b[49m\u001b[43m(\u001b[49m\u001b[43mvalue\u001b[49m\u001b[43m)\u001b[49m\n\u001b[1;32m   3012\u001b[0m \u001b[38;5;28;01melse\u001b[39;00m:\n\u001b[1;32m   3013\u001b[0m     \u001b[38;5;66;03m# if array, it will be loaded no matter what, always prefer ArrayDict\u001b[39;00m\n\u001b[1;32m   3014\u001b[0m     data[key] \u001b[38;5;241m=\u001b[39m value[:]\n",
      "File \u001b[0;32m~/jmehrotra_ocd_venv/lib/python3.10/site-packages/temporaldata/temporaldata.py:473\u001b[0m, in \u001b[0;36mLazyArrayDict.from_hdf5\u001b[0;34m(cls, file)\u001b[0m\n\u001b[1;32m    470\u001b[0m \u001b[38;5;28;01mfor\u001b[39;00m key, value \u001b[38;5;129;01min\u001b[39;00m file\u001b[38;5;241m.\u001b[39mitems():\n\u001b[1;32m    471\u001b[0m     obj\u001b[38;5;241m.\u001b[39m\u001b[38;5;18m__dict__\u001b[39m[key] \u001b[38;5;241m=\u001b[39m value\n\u001b[0;32m--> 473\u001b[0m obj\u001b[38;5;241m.\u001b[39m_unicode_keys \u001b[38;5;241m=\u001b[39m \u001b[43mfile\u001b[49m\u001b[38;5;241;43m.\u001b[39;49m\u001b[43mattrs\u001b[49m\u001b[43m[\u001b[49m\u001b[38;5;124;43m\"\u001b[39;49m\u001b[38;5;124;43m_unicode_keys\u001b[39;49m\u001b[38;5;124;43m\"\u001b[39;49m\u001b[43m]\u001b[49m\u001b[38;5;241m.\u001b[39mastype(\u001b[38;5;28mstr\u001b[39m)\u001b[38;5;241m.\u001b[39mtolist()\n\u001b[1;32m    474\u001b[0m obj\u001b[38;5;241m.\u001b[39m_lazy_ops \u001b[38;5;241m=\u001b[39m {}\n\u001b[1;32m    476\u001b[0m \u001b[38;5;28;01mreturn\u001b[39;00m obj\n",
      "File \u001b[0;32mh5py/_objects.pyx:56\u001b[0m, in \u001b[0;36mh5py._objects.with_phil.wrapper\u001b[0;34m()\u001b[0m\n",
      "File \u001b[0;32mh5py/_objects.pyx:57\u001b[0m, in \u001b[0;36mh5py._objects.with_phil.wrapper\u001b[0;34m()\u001b[0m\n",
      "File \u001b[0;32m~/jmehrotra_ocd_venv/lib/python3.10/site-packages/h5py/_hl/attrs.py:56\u001b[0m, in \u001b[0;36mAttributeManager.__getitem__\u001b[0;34m(self, name)\u001b[0m\n\u001b[1;32m     52\u001b[0m \u001b[38;5;129m@with_phil\u001b[39m\n\u001b[1;32m     53\u001b[0m \u001b[38;5;28;01mdef\u001b[39;00m\u001b[38;5;250m \u001b[39m\u001b[38;5;21m__getitem__\u001b[39m(\u001b[38;5;28mself\u001b[39m, name):\n\u001b[1;32m     54\u001b[0m \u001b[38;5;250m    \u001b[39m\u001b[38;5;124;03m\"\"\" Read the value of an attribute.\u001b[39;00m\n\u001b[1;32m     55\u001b[0m \u001b[38;5;124;03m    \"\"\"\u001b[39;00m\n\u001b[0;32m---> 56\u001b[0m     attr \u001b[38;5;241m=\u001b[39m \u001b[43mh5a\u001b[49m\u001b[38;5;241;43m.\u001b[39;49m\u001b[43mopen\u001b[49m\u001b[43m(\u001b[49m\u001b[38;5;28;43mself\u001b[39;49m\u001b[38;5;241;43m.\u001b[39;49m\u001b[43m_id\u001b[49m\u001b[43m,\u001b[49m\u001b[43m \u001b[49m\u001b[38;5;28;43mself\u001b[39;49m\u001b[38;5;241;43m.\u001b[39;49m\u001b[43m_e\u001b[49m\u001b[43m(\u001b[49m\u001b[43mname\u001b[49m\u001b[43m)\u001b[49m\u001b[43m)\u001b[49m\n\u001b[1;32m     57\u001b[0m     shape \u001b[38;5;241m=\u001b[39m attr\u001b[38;5;241m.\u001b[39mshape\n\u001b[1;32m     59\u001b[0m     \u001b[38;5;66;03m# shape is None for empty dataspaces\u001b[39;00m\n",
      "File \u001b[0;32mh5py/_objects.pyx:56\u001b[0m, in \u001b[0;36mh5py._objects.with_phil.wrapper\u001b[0;34m()\u001b[0m\n",
      "File \u001b[0;32mh5py/_objects.pyx:57\u001b[0m, in \u001b[0;36mh5py._objects.with_phil.wrapper\u001b[0;34m()\u001b[0m\n",
      "File \u001b[0;32mh5py/h5a.pyx:80\u001b[0m, in \u001b[0;36mh5py.h5a.open\u001b[0;34m()\u001b[0m\n",
      "\u001b[0;31mKeyError\u001b[0m: \"Unable to synchronously open attribute (can't locate attribute: '_unicode_keys')\""
     ]
    }
   ],
   "source": [
    "# Cell 4 — load with temporaldata and list top-level keys\n",
    "with h5py.File(h5_path, \"r\") as f:\n",
    "    session = Data.from_hdf5(f)\n",
    "\n",
    "print(\"Top-level keys in Data object:\", session.keys())\n"
   ]
  },
  {
   "cell_type": "code",
   "execution_count": 45,
   "id": "4dc20784",
   "metadata": {},
   "outputs": [
    {
     "name": "stdout",
     "output_type": "stream",
     "text": [
      "\n",
      "• 'brainset' (Data)\n",
      "    sub-keys: ['brainsets_version', 'derived_version', 'description', 'id', 'origin_version', 'source', 'temporaldata_version']\n",
      "    example brainsets_version[:5] = 0.1.0\n",
      "\n",
      "• 'ieeg' (LazyRegularTimeSeries)\n",
      "    sampling_rate = 500 Hz\n"
     ]
    },
    {
     "ename": "RuntimeError",
     "evalue": "Unable to synchronously get dataspace (identifier is not of specified type)",
     "output_type": "error",
     "traceback": [
      "\u001b[0;31m---------------------------------------------------------------------------\u001b[0m",
      "\u001b[0;31mRuntimeError\u001b[0m                              Traceback (most recent call last)",
      "Cell \u001b[0;32mIn[45], line 8\u001b[0m\n\u001b[1;32m      6\u001b[0m \u001b[38;5;28;01mif\u001b[39;00m \u001b[38;5;28mhasattr\u001b[39m(attr, \u001b[38;5;124m\"\u001b[39m\u001b[38;5;124msampling_rate\u001b[39m\u001b[38;5;124m\"\u001b[39m):\n\u001b[1;32m      7\u001b[0m     \u001b[38;5;28mprint\u001b[39m(\u001b[38;5;124mf\u001b[39m\u001b[38;5;124m\"\u001b[39m\u001b[38;5;124m    sampling_rate = \u001b[39m\u001b[38;5;132;01m{\u001b[39;00mattr\u001b[38;5;241m.\u001b[39msampling_rate\u001b[38;5;132;01m}\u001b[39;00m\u001b[38;5;124m Hz\u001b[39m\u001b[38;5;124m\"\u001b[39m)\n\u001b[0;32m----> 8\u001b[0m     \u001b[38;5;28mprint\u001b[39m(\u001b[38;5;124mf\u001b[39m\u001b[38;5;124m\"\u001b[39m\u001b[38;5;124m    first timestamps = \u001b[39m\u001b[38;5;132;01m{\u001b[39;00m\u001b[43mattr\u001b[49m\u001b[38;5;241;43m.\u001b[39;49m\u001b[43mtimestamps\u001b[49m[:\u001b[38;5;241m10\u001b[39m]\u001b[38;5;132;01m}\u001b[39;00m\u001b[38;5;124m\"\u001b[39m)\n\u001b[1;32m      9\u001b[0m \u001b[38;5;66;03m# IrregularTimeSeries or ArrayDict?\u001b[39;00m\n\u001b[1;32m     10\u001b[0m \u001b[38;5;28;01melif\u001b[39;00m \u001b[38;5;28mhasattr\u001b[39m(attr, \u001b[38;5;124m\"\u001b[39m\u001b[38;5;124mkeys\u001b[39m\u001b[38;5;124m\"\u001b[39m):\n",
      "File \u001b[0;32m~/jmehrotra_ocd_venv/lib/python3.10/site-packages/temporaldata/temporaldata.py:1499\u001b[0m, in \u001b[0;36mLazyRegularTimeSeries.__getattribute__\u001b[0;34m(self, name)\u001b[0m\n\u001b[1;32m   1496\u001b[0m             \u001b[38;5;28;01mdel\u001b[39;00m \u001b[38;5;28mself\u001b[39m\u001b[38;5;241m.\u001b[39m_lazy_ops\n\u001b[1;32m   1498\u001b[0m         \u001b[38;5;28;01mreturn\u001b[39;00m out\n\u001b[0;32m-> 1499\u001b[0m \u001b[38;5;28;01mreturn\u001b[39;00m \u001b[38;5;28;43msuper\u001b[39;49m\u001b[43m(\u001b[49m\u001b[43mLazyRegularTimeSeries\u001b[49m\u001b[43m,\u001b[49m\u001b[43m \u001b[49m\u001b[38;5;28;43mself\u001b[39;49m\u001b[43m)\u001b[49m\u001b[38;5;241;43m.\u001b[39;49m\u001b[38;5;21;43m__getattribute__\u001b[39;49m\u001b[43m(\u001b[49m\u001b[43mname\u001b[49m\u001b[43m)\u001b[49m\n",
      "File \u001b[0;32m~/jmehrotra_ocd_venv/lib/python3.10/site-packages/temporaldata/temporaldata.py:1367\u001b[0m, in \u001b[0;36mRegularTimeSeries.timestamps\u001b[0;34m(self)\u001b[0m\n\u001b[1;32m   1362\u001b[0m \u001b[38;5;129m@property\u001b[39m\n\u001b[1;32m   1363\u001b[0m \u001b[38;5;28;01mdef\u001b[39;00m\u001b[38;5;250m \u001b[39m\u001b[38;5;21mtimestamps\u001b[39m(\u001b[38;5;28mself\u001b[39m):\n\u001b[1;32m   1364\u001b[0m \u001b[38;5;250m    \u001b[39m\u001b[38;5;124mr\u001b[39m\u001b[38;5;124;03m\"\"\"Returns the timestamps of the time series.\"\"\"\u001b[39;00m\n\u001b[1;32m   1365\u001b[0m     \u001b[38;5;28;01mreturn\u001b[39;00m (\n\u001b[1;32m   1366\u001b[0m         \u001b[38;5;28mself\u001b[39m\u001b[38;5;241m.\u001b[39mdomain\u001b[38;5;241m.\u001b[39mstart[\u001b[38;5;241m0\u001b[39m]\n\u001b[0;32m-> 1367\u001b[0m         \u001b[38;5;241m+\u001b[39m np\u001b[38;5;241m.\u001b[39marange(\u001b[38;5;28;43mlen\u001b[39;49m\u001b[43m(\u001b[49m\u001b[38;5;28;43mself\u001b[39;49m\u001b[43m)\u001b[49m, dtype\u001b[38;5;241m=\u001b[39mnp\u001b[38;5;241m.\u001b[39mfloat64) \u001b[38;5;241m/\u001b[39m \u001b[38;5;28mself\u001b[39m\u001b[38;5;241m.\u001b[39msampling_rate\n\u001b[1;32m   1368\u001b[0m     )\n",
      "File \u001b[0;32m~/jmehrotra_ocd_venv/lib/python3.10/site-packages/temporaldata/temporaldata.py:60\u001b[0m, in \u001b[0;36mArrayDict.__len__\u001b[0;34m(self)\u001b[0m\n\u001b[1;32m     58\u001b[0m \u001b[38;5;28;01mdef\u001b[39;00m\u001b[38;5;250m \u001b[39m\u001b[38;5;21m__len__\u001b[39m(\u001b[38;5;28mself\u001b[39m):\n\u001b[1;32m     59\u001b[0m \u001b[38;5;250m    \u001b[39m\u001b[38;5;124mr\u001b[39m\u001b[38;5;124;03m\"\"\"Returns the first dimension shared by all attributes.\"\"\"\u001b[39;00m\n\u001b[0;32m---> 60\u001b[0m     first_dim \u001b[38;5;241m=\u001b[39m \u001b[38;5;28;43mself\u001b[39;49m\u001b[38;5;241;43m.\u001b[39;49m\u001b[43m_maybe_first_dim\u001b[49m\u001b[43m(\u001b[49m\u001b[43m)\u001b[49m\n\u001b[1;32m     61\u001b[0m     \u001b[38;5;28;01mif\u001b[39;00m first_dim \u001b[38;5;129;01mis\u001b[39;00m \u001b[38;5;28;01mNone\u001b[39;00m:\n\u001b[1;32m     62\u001b[0m         \u001b[38;5;28;01mraise\u001b[39;00m \u001b[38;5;167;01mValueError\u001b[39;00m(\u001b[38;5;124mf\u001b[39m\u001b[38;5;124m\"\u001b[39m\u001b[38;5;132;01m{\u001b[39;00m\u001b[38;5;28mself\u001b[39m\u001b[38;5;241m.\u001b[39m\u001b[38;5;18m__class__\u001b[39m\u001b[38;5;241m.\u001b[39m\u001b[38;5;18m__name__\u001b[39m\u001b[38;5;132;01m}\u001b[39;00m\u001b[38;5;124m is empty.\u001b[39m\u001b[38;5;124m\"\u001b[39m)\n",
      "File \u001b[0;32m~/jmehrotra_ocd_venv/lib/python3.10/site-packages/temporaldata/temporaldata.py:1471\u001b[0m, in \u001b[0;36mLazyRegularTimeSeries._maybe_first_dim\u001b[0;34m(self)\u001b[0m\n\u001b[1;32m   1463\u001b[0m     \u001b[38;5;28;01mreturn\u001b[39;00m \u001b[38;5;28mint\u001b[39m(\n\u001b[1;32m   1464\u001b[0m         np\u001b[38;5;241m.\u001b[39mround(\n\u001b[1;32m   1465\u001b[0m             (\u001b[38;5;28mself\u001b[39m\u001b[38;5;241m.\u001b[39mdomain\u001b[38;5;241m.\u001b[39mend[\u001b[38;5;241m-\u001b[39m\u001b[38;5;241m1\u001b[39m] \u001b[38;5;241m-\u001b[39m \u001b[38;5;28mself\u001b[39m\u001b[38;5;241m.\u001b[39mdomain\u001b[38;5;241m.\u001b[39mstart[\u001b[38;5;241m0\u001b[39m])\n\u001b[1;32m   1466\u001b[0m             \u001b[38;5;241m*\u001b[39m \u001b[38;5;28mself\u001b[39m\u001b[38;5;241m.\u001b[39msampling_rate\n\u001b[1;32m   1467\u001b[0m         )\n\u001b[1;32m   1468\u001b[0m     )\n\u001b[1;32m   1470\u001b[0m \u001b[38;5;66;03m# otherwise nothing was loaded, return the first dim of the h5py dataset\u001b[39;00m\n\u001b[0;32m-> 1471\u001b[0m \u001b[38;5;28;01mreturn\u001b[39;00m \u001b[38;5;28;43mself\u001b[39;49m\u001b[38;5;241;43m.\u001b[39;49m\u001b[38;5;18;43m__dict__\u001b[39;49m\u001b[43m[\u001b[49m\u001b[38;5;28;43mself\u001b[39;49m\u001b[38;5;241;43m.\u001b[39;49m\u001b[43mkeys\u001b[49m\u001b[43m(\u001b[49m\u001b[43m)\u001b[49m\u001b[43m[\u001b[49m\u001b[38;5;241;43m0\u001b[39;49m\u001b[43m]\u001b[49m\u001b[43m]\u001b[49m\u001b[38;5;241;43m.\u001b[39;49m\u001b[43mshape\u001b[49m[\u001b[38;5;241m0\u001b[39m]\n",
      "File \u001b[0;32m~/jmehrotra_ocd_venv/lib/python3.10/site-packages/h5py/_hl/dataset.py:519\u001b[0m, in \u001b[0;36mDataset.shape\u001b[0;34m(self)\u001b[0m\n\u001b[1;32m    516\u001b[0m     \u001b[38;5;28;01mreturn\u001b[39;00m \u001b[38;5;28mself\u001b[39m\u001b[38;5;241m.\u001b[39m_cache_props[\u001b[38;5;124m'\u001b[39m\u001b[38;5;124mshape\u001b[39m\u001b[38;5;124m'\u001b[39m]\n\u001b[1;32m    518\u001b[0m \u001b[38;5;28;01mwith\u001b[39;00m phil:\n\u001b[0;32m--> 519\u001b[0m     shape \u001b[38;5;241m=\u001b[39m \u001b[38;5;28;43mself\u001b[39;49m\u001b[38;5;241;43m.\u001b[39;49m\u001b[43mid\u001b[49m\u001b[38;5;241;43m.\u001b[39;49m\u001b[43mshape\u001b[49m\n\u001b[1;32m    521\u001b[0m \u001b[38;5;66;03m# If the file is read-only, cache the shape to speed-up future uses.\u001b[39;00m\n\u001b[1;32m    522\u001b[0m \u001b[38;5;66;03m# This cache is invalidated by .refresh() when using SWMR.\u001b[39;00m\n\u001b[1;32m    523\u001b[0m \u001b[38;5;28;01mif\u001b[39;00m \u001b[38;5;28mself\u001b[39m\u001b[38;5;241m.\u001b[39m_readonly:\n",
      "File \u001b[0;32mh5py/h5d.pyx:207\u001b[0m, in \u001b[0;36mh5py.h5d.DatasetID.shape.__get__\u001b[0;34m()\u001b[0m\n",
      "File \u001b[0;32mh5py/h5d.pyx:208\u001b[0m, in \u001b[0;36mh5py.h5d.DatasetID.shape.__get__\u001b[0;34m()\u001b[0m\n",
      "File \u001b[0;32mh5py/_objects.pyx:56\u001b[0m, in \u001b[0;36mh5py._objects.with_phil.wrapper\u001b[0;34m()\u001b[0m\n",
      "File \u001b[0;32mh5py/_objects.pyx:57\u001b[0m, in \u001b[0;36mh5py._objects.with_phil.wrapper\u001b[0;34m()\u001b[0m\n",
      "File \u001b[0;32mh5py/h5d.pyx:374\u001b[0m, in \u001b[0;36mh5py.h5d.DatasetID.get_space\u001b[0;34m()\u001b[0m\n",
      "\u001b[0;31mRuntimeError\u001b[0m: Unable to synchronously get dataspace (identifier is not of specified type)"
     ]
    }
   ],
   "source": [
    "# Cell 5 — drill into each attribute\n",
    "for key in session.keys():\n",
    "    attr = getattr(session, key)\n",
    "    print(f\"\\n• {key!r} ({type(attr).__name__})\")\n",
    "    # RegularTimeSeries?\n",
    "    if hasattr(attr, \"sampling_rate\"):\n",
    "        print(f\"    sampling_rate = {attr.sampling_rate} Hz\")\n",
    "        print(f\"    first timestamps = {attr.timestamps[:10]}\")\n",
    "    # IrregularTimeSeries or ArrayDict?\n",
    "    elif hasattr(attr, \"keys\"):\n",
    "        sub = attr.keys()\n",
    "        print(f\"    sub-keys: {sub}\")\n",
    "        # show a snippet of the first field\n",
    "        example = sub[0]\n",
    "        val = getattr(attr, example)\n",
    "        print(f\"    example {example}[:5] = {val[:5]}\")"
   ]
  },
  {
   "cell_type": "code",
   "execution_count": null,
   "id": "d5b28fe3",
   "metadata": {},
   "outputs": [],
   "source": [
    "# Cell 6 — if there is a domain interval, print it\n",
    "if hasattr(session, \"domain\"):\n",
    "    dom = session.domain\n",
    "    print(f\"\\nOverall session domain: start={dom.start}, end={dom.end}\")\n"
   ]
  },
  {
   "cell_type": "code",
   "execution_count": 71,
   "id": "64d1108b",
   "metadata": {},
   "outputs": [
    {
     "name": "stdout",
     "output_type": "stream",
     "text": [
      "Interval 0:\n",
      "  start  = -22.298333333333176\n",
      "  end    = 37.701666666666824\n",
      "  labels = [4. 6. 6. 4. 6. 6. 0.]\n",
      "Interval 1:\n",
      "  start  = 266.2466666666669\n",
      "  end    = 326.2466666666669\n",
      "  labels = [0. 0. 0. 3. 0. 2. 0.]\n"
     ]
    }
   ],
   "source": [
    "\n",
    "\n",
    "\n",
    "import pickle\n",
    "from temporaldata import Interval\n",
    "\n",
    "# Path to your .pkl file with a plain Interval object\n",
    "pkl_path = \"/vol/cortex/cd3/pesaranlab/OCD_Mapping_Foundation/processed_data/labels/P3_D5_Tsymptom_provocation_SUPENNS001R01part3.pkl\"  # ← update this to your file\n",
    "\n",
    "# Load the Interval\n",
    "with open(pkl_path, \"rb\") as f:\n",
    "    iv = pickle.load(f)\n",
    "\n",
    "# Print each interval's start, end, and label vector\n",
    "for idx, (start, end, label) in enumerate(zip(iv.start, iv.end, iv.label)):\n",
    "    print(f\"Interval {idx}:\")\n",
    "    print(f\"  start  = {start}\")\n",
    "    print(f\"  end    = {end}\")\n",
    "    print(f\"  labels = {label}\")\n"
   ]
  }
 ],
 "metadata": {
  "kernelspec": {
   "display_name": "Python (jmehrotra_ocd_venv)",
   "language": "python",
   "name": "jmehrotra_ocd_venv"
  },
  "language_info": {
   "codemirror_mode": {
    "name": "ipython",
    "version": 3
   },
   "file_extension": ".py",
   "mimetype": "text/x-python",
   "name": "python",
   "nbconvert_exporter": "python",
   "pygments_lexer": "ipython3",
   "version": "3.10.12"
  }
 },
 "nbformat": 4,
 "nbformat_minor": 5
}
